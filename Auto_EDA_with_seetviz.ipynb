{
  "nbformat": 4,
  "nbformat_minor": 0,
  "metadata": {
    "colab": {
      "name": "Auto EDA with seetviz.ipynb",
      "provenance": [],
      "collapsed_sections": [],
      "mount_file_id": "1xeU4GqhTRwtC6yOmKmf12lUQXn7uUwON",
      "authorship_tag": "ABX9TyMwbBe7yRva5IAVfCvh/J9R",
      "include_colab_link": true
    },
    "kernelspec": {
      "name": "python3",
      "display_name": "Python 3"
    }
  },
  "cells": [
    {
      "cell_type": "markdown",
      "metadata": {
        "id": "view-in-github",
        "colab_type": "text"
      },
      "source": [
        "<a href=\"https://colab.research.google.com/github/arora123/Learn-Python/blob/master/Auto_EDA_with_seetviz.ipynb\" target=\"_parent\"><img src=\"https://colab.research.google.com/assets/colab-badge.svg\" alt=\"Open In Colab\"/></a>"
      ]
    },
    {
      "cell_type": "code",
      "metadata": {
        "id": "MKGithxxjCp8",
        "colab_type": "code",
        "colab": {}
      },
      "source": [
        "# Install sweetviz for auto EDA\n",
        "!pip install sweetviz"
      ],
      "execution_count": null,
      "outputs": []
    },
    {
      "cell_type": "code",
      "metadata": {
        "id": "cjAGFvD0lSio",
        "colab_type": "code",
        "colab": {}
      },
      "source": [
        "import pandas as pd\n",
        "train = pd.read_csv(\"/content/drive/My Drive/OTS_Data/train.csv\")\n",
        "test = pd.read_csv(\"/content/drive/My Drive/OTS_Data/test.csv\")\n",
        "print(train.shape)\n",
        "print(train.tail())\n",
        "test.shape"
      ],
      "execution_count": null,
      "outputs": []
    },
    {
      "cell_type": "code",
      "metadata": {
        "id": "GFTzdrMOltod",
        "colab_type": "code",
        "colab": {}
      },
      "source": [
        "import sweetviz\n",
        "#my_report = sweetviz.compare([train, \"Train\"], [test, \"Test\"], \"Survived\")\n",
        "my_report = sweetviz.analyze([train, \"Train\"],target_feat='Fare')\n",
        "my_report.show_html()"
      ],
      "execution_count": null,
      "outputs": []
    },
    {
      "cell_type": "code",
      "metadata": {
        "id": "1bQyJOsQl7g5",
        "colab_type": "code",
        "colab": {}
      },
      "source": [
        "my_report.show_html(\"Report.html\") # Not providing a filename will default to SWEETVIZ_REPORT.html"
      ],
      "execution_count": null,
      "outputs": []
    },
    {
      "cell_type": "code",
      "metadata": {
        "id": "FgKCyTs54A8s",
        "colab_type": "code",
        "colab": {}
      },
      "source": [
        "import IPython\n",
        "IPython.display.HTML(filename='/content/Report.html')\n"
      ],
      "execution_count": null,
      "outputs": []
    },
    {
      "cell_type": "code",
      "metadata": {
        "id": "5wkQvXcjmX_B",
        "colab_type": "code",
        "colab": {}
      },
      "source": [
        "import sweetviz as sv\n",
        "\n",
        "my_report = sv.analyze(train)\n",
        "my_report.show_html() # Default arguments will generate to \"SWEETVIZ_REPORT.html\"\n",
        "my_report"
      ],
      "execution_count": null,
      "outputs": []
    },
    {
      "cell_type": "code",
      "metadata": {
        "id": "6djiSEcITgy4",
        "colab_type": "code",
        "colab": {}
      },
      "source": [
        "feature_config = sv.FeatureConfig(skip=\"PassengerId\", force_text=[\"Age\"])\n",
        "feature_config"
      ],
      "execution_count": null,
      "outputs": []
    },
    {
      "cell_type": "code",
      "metadata": {
        "id": "O3D7wtWCTg4j",
        "colab_type": "code",
        "colab": {}
      },
      "source": [
        "my_report = sv.analyze([train, \"Training Data\"], [test, \"Test Data\"], \"Survived\", feature_config)\n",
        "my_report"
      ],
      "execution_count": null,
      "outputs": []
    }
  ]
}